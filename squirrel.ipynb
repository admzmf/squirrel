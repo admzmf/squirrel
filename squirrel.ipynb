{
 "cells": [
  {
   "cell_type": "markdown",
   "metadata": {},
   "source": [
    "Squirrelizer 1.0.0 || 💃🎶 -> 🐿🎶\n",
    "------------------------------\n",
    "The **Squirrelizer** queries the last.fm music database for information on songs related to the keyword 'Girl' and prints the titles of the results of the search, where the string 'Girl' has been replaced by 'Squirrel'.\n",
    "\n",
    "Additional information:\n",
    "- This is a mini-project that I wrote to learn more about RESTful APIs\n",
    "- I chose to use the last.fm database because it seems to have good data on tracks compared to other music databases and a pretty simple, straightforward API."
   ]
  },
  {
   "cell_type": "markdown",
   "metadata": {},
   "source": [
    "## Packages\n",
    "- requests for querying the API\n",
    "- json for working with the response"
   ]
  },
  {
   "cell_type": "code",
   "execution_count": 20,
   "metadata": {},
   "outputs": [],
   "source": [
    "# Packages\n",
    "import requests # for querying the API\n",
    "import json # for processing with the response\n",
    "import re # for making the substitution\n",
    "\n",
    "# import pandas as pd   # future iterations might use pandas for dataframe stuff"
   ]
  },
  {
   "cell_type": "markdown",
   "metadata": {},
   "source": [
    "## Calling the API\n"
   ]
  },
  {
   "cell_type": "code",
   "execution_count": 2,
   "metadata": {},
   "outputs": [],
   "source": [
    "# Credentials\n",
    "import last_fm_key\n",
    "\n",
    "LASTFM_KEY = last_fm_key.LASTFM_KEY\n",
    "\n",
    "# Request configuration details\n",
    "API_ENDPOINT = 'http://ws.audioscrobbler.com/2.0'\n",
    "\n",
    "PARAMS = {\n",
    "    'api_key': LASTFM_KEY,\n",
    "    'method': 'track.search',\n",
    "    'limit' : 100,\n",
    "    'track': 'girl',\n",
    "    'format': 'json'\n",
    "}\n",
    "\n",
    "results = requests.get(API_ENDPOINT, params=PARAMS)"
   ]
  },
  {
   "cell_type": "markdown",
   "metadata": {},
   "source": [
    "## Processing the results"
   ]
  },
  {
   "cell_type": "code",
   "execution_count": 18,
   "metadata": {},
   "outputs": [
    {
     "name": "stdout",
     "output_type": "stream",
     "text": [
      "['Lovesick Girls', 'Only Girl (In the World)', 'Girls Just Want to Have Fun', 'Girlfriend', 'About a Girl', 'My Girls', 'Girls & Boys', 'Bad Girls', 'Girl with One Eye', 'I Kissed a Girl', 'Hollaback Girl', 'Cinnamon Girl', 'All Girls Are The Same', 'hot girl bummer', 'Pretty Girl', 'Girl Gone Wild', 'My Girl', 'Brown Eyed Girl', 'Girls', 'Next Girl', 'Uptown Girl', 'Girlfriend', 'Sad Girl', 'Material Girl', 'No You Girls', 'Girl', 'Girls Like You (feat. Cardi B)', 'Girls', 'Dissolved Girl', 'Galway Girl', 'Girl From the North Country', 'Girlfriend in a Coma', 'Cool Girl', 'The Girl', \"Girl, You'll Be a Woman Soon\", 'Girl', 'Girls In The Hood', 'The Girl and the Robot', 'Polish Girl', 'Beautiful Girls', 'Girl on Fire', 'Just a Girl', 'Girl Front', 'Hot Girl Summer (feat. Nicki Minaj & Ty Dolla $ign)', 'all the good girls go to hell', \"Break Up with Your Girlfriend, I'm Bored\", 'Girl', 'Big Girls Cry', \"Girl's Not Grey\", 'Rich Girl', 'American Girl', 'E-GIRLS ARE RUINING MY LIFE!', 'Normal Girl', 'Drunk And Hot Girls', 'Barbie Girl', 'Run the World (Girls)', 'Girls/Girls/Boys', 'I Need My Girl', 'Girls, Girls, Girls', 'Girl Inform Me', 'Stupid Girl', 'Fat Bottomed Girls', 'Some Girls Are Bigger Than Others', 'Gold Guns Girls', 'Call Your Girlfriend', 'Girls Like You', 'Naughty Girl', 'Breaking the Girl', \"Big Girls Don't Cry (Personal)\", 'Cosmic Girl', \"This Girl (Kungs Vs. Cookin' On 3 Burners)\", 'Girls', 'Good Girls Go Bad (feat. Leighton Meester)', 'Steal My Girl', 'Girl, You Have No Faith in Medicine', 'Cherry Blossom Girl', \"Jessie's Girl\", 'Girl Crush - Recorded at Metropolis Studios, London', 'Girls', 'Girls Like Girls', 'Girl Afraid', 'Girl I Love You', '21st Century Girl', 'Psychotic Girl', 'Are You Gonna Be My Girl', 'Stupid Girls', 'Girl on the Wing', 'Drunk Girls', 'Cornflake Girl', 'Gone Girl', 'China Girl', 'Girls Need Love (with Drake) - Remix', '10 Freaky Girls (with 21 Savage)', \"Girls' Night Out\", 'Video Girl', 'Girls just want to have fun', \"Big Girls Don't Cry\", 'Girl Sailor', 'Girl All the Bad Guys Want', 'Girls Got Rhythm']\n"
     ]
    }
   ],
   "source": [
    "\n",
    "\n",
    "songs = results.json()\n",
    "tracks = songs['results']['trackmatches']['track']\n",
    "\n",
    "song_titles = []\n",
    "for index in range(len(tracks)):\n",
    "    song_titles.append(tracks[index]['name'])\n",
    "print(song_titles)\n",
    "\n"
   ]
  },
  {
   "cell_type": "code",
   "execution_count": 21,
   "metadata": {},
   "outputs": [
    {
     "name": "stdout",
     "output_type": "stream",
     "text": [
      "['Lovesick Squirrels', 'Only Squirrel (In the World)', 'Squirrels Just Want to Have Fun', 'Squirrelfriend', 'About a Squirrel', 'My Squirrels', 'Squirrels & Boys', 'Bad Squirrels', 'Squirrel with One Eye', 'I Kissed a Squirrel', 'Hollaback Squirrel', 'Cinnamon Squirrel', 'All Squirrels Are The Same', 'hot Squirrel bummer', 'Pretty Squirrel', 'Squirrel Gone Wild', 'My Squirrel', 'Brown Eyed Squirrel', 'Squirrels', 'Next Squirrel', 'Uptown Squirrel', 'Squirrelfriend', 'Sad Squirrel', 'Material Squirrel', 'No You Squirrels', 'Squirrel', 'Squirrels Like You (feat. Cardi B)', 'Squirrels', 'Dissolved Squirrel', 'Galway Squirrel', 'Squirrel From the North Country', 'Squirrelfriend in a Coma', 'Cool Squirrel', 'The Squirrel', \"Squirrel, You'll Be a Woman Soon\", 'Squirrel', 'Squirrels In The Hood', 'The Squirrel and the Robot', 'Polish Squirrel', 'Beautiful Squirrels', 'Squirrel on Fire', 'Just a Squirrel', 'Squirrel Front', 'Hot Squirrel Summer (feat. Nicki Minaj & Ty Dolla $ign)', 'all the good Squirrels go to hell', \"Break Up with Your Squirrelfriend, I'm Bored\", 'Squirrel', 'Big Squirrels Cry', \"Squirrel's Not Grey\", 'Rich Squirrel', 'American Squirrel', 'E-SquirrelS ARE RUINING MY LIFE!', 'Normal Squirrel', 'Drunk And Hot Squirrels', 'Barbie Squirrel', 'Run the World (Squirrels)', 'Squirrels/Squirrels/Boys', 'I Need My Squirrel', 'Squirrels, Squirrels, Squirrels', 'Squirrel Inform Me', 'Stupid Squirrel', 'Fat Bottomed Squirrels', 'Some Squirrels Are Bigger Than Others', 'Gold Guns Squirrels', 'Call Your Squirrelfriend', 'Squirrels Like You', 'Naughty Squirrel', 'Breaking the Squirrel', \"Big Squirrels Don't Cry (Personal)\", 'Cosmic Squirrel', \"This Squirrel (Kungs Vs. Cookin' On 3 Burners)\", 'Squirrels', 'Good Squirrels Go Bad (feat. Leighton Meester)', 'Steal My Squirrel', 'Squirrel, You Have No Faith in Medicine', 'Cherry Blossom Squirrel', \"Jessie's Squirrel\", 'Squirrel Crush - Recorded at Metropolis Studios, London', 'Squirrels', 'Squirrels Like Squirrels', 'Squirrel Afraid', 'Squirrel I Love You', '21st Century Squirrel', 'Psychotic Squirrel', 'Are You Gonna Be My Squirrel', 'Stupid Squirrels', 'Squirrel on the Wing', 'Drunk Squirrels', 'Cornflake Squirrel', 'Gone Squirrel', 'China Squirrel', 'Squirrels Need Love (with Drake) - Remix', '10 Freaky Squirrels (with 21 Savage)', \"Squirrels' Night Out\", 'Video Squirrel', 'Squirrels just want to have fun', \"Big Squirrels Don't Cry\", 'Squirrel Sailor', 'Squirrel All the Bad Guys Want', 'Squirrels Got Rhythm']\n"
     ]
    }
   ],
   "source": [
    "squirrel_list = []\n",
    "for song in song_titles:\n",
    "    #squirrel_list.append(song.replace(\"Girl\",\"Squirrel\"))\n",
    "    squirrel_list.append(re.sub('[g|G][i|I][r|R][l|L]', 'Squirrel', song))\n",
    "print(squirrel_list)"
   ]
  }
 ],
 "metadata": {
  "kernelspec": {
   "display_name": "Python 3",
   "language": "python",
   "name": "python3"
  },
  "language_info": {
   "codemirror_mode": {
    "name": "ipython",
    "version": 3
   },
   "file_extension": ".py",
   "mimetype": "text/x-python",
   "name": "python",
   "nbconvert_exporter": "python",
   "pygments_lexer": "ipython3",
   "version": "3.8.5"
  }
 },
 "nbformat": 4,
 "nbformat_minor": 4
}
